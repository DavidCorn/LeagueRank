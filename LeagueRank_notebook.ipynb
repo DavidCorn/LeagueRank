{
 "cells": [
  {
   "cell_type": "markdown",
   "metadata": {},
   "source": [
    "# LeagueRank: A game skill evaluatioin application\n",
    "## Introduction\n",
    "\n",
    "[add words here...]\n",
    "[some terminology...]"
   ]
  },
  {
   "cell_type": "markdown",
   "metadata": {},
   "source": [
    "## Content\n",
    "[Topics gonna cover in this project...]"
   ]
  },
  {
   "cell_type": "markdown",
   "metadata": {},
   "source": [
    "## Installing the library\n",
    "\n",
    "Before getting started, we need to prepare some usful libraries. The main package we use to crawl the LOL data is called ```riotwatcher```, which is a [Python library](https://github.com/pseudonym117/Riot-Watcher) built up with the API provided by Riot. To install the library, one common way using ```pip```:\n",
    "\n",
    "```pip install riotwatcher```\n",
    "\n",
    "Although the library is robust and convenience, there are still some functions it does not implement such as getting the most frequently played champion, getting summoner list by division, etc. To implement those functions, we are going to adopt corresponding Riot APIs, using urllib2 to request from the game server. Installing urllib2 via ```pip```:\n",
    "\n",
    "```pip install urllib2```\n",
    "\n",
    "After you run all the installs, make sure the following commands work for you"
   ]
  },
  {
   "cell_type": "code",
   "execution_count": 1,
   "metadata": {
    "collapsed": true
   },
   "outputs": [],
   "source": [
    "import csv\n",
    "import json\n",
    "import os\n",
    "import ujson\n",
    "import urllib2\n",
    "\n",
    "from riotwatcher import RiotWatcher"
   ]
  },
  {
   "cell_type": "markdown",
   "metadata": {},
   "source": [
    "To use the Riot api, one more important thing to do is to get your own API key. API key can be obtained from [here](https://developer.riotgames.com/). Note that normal developr API key has a narrow request limit, whereas production API key for commercial use has a looser requirement of request limit. For now, we are just gonna use the normal API key for demonstration.\n",
    "\n",
    "After getting your own API key, put it in the config dictionary below:"
   ]
  },
  {
   "cell_type": "code",
   "execution_count": 2,
   "metadata": {
    "collapsed": true
   },
   "outputs": [],
   "source": [
    "config = {\n",
    "    'key': ['enter your api key here'],\n",
    "}"
   ]
  },
  {
   "cell_type": "markdown",
   "metadata": {},
   "source": [
    "## Project Architecture\n",
    "### Data Crawling\n",
    "\n",
    "#### 1. Fetch player list\n",
    "\n",
    "[how to crawl the data...]"
   ]
  },
  {
   "cell_type": "code",
   "execution_count": 4,
   "metadata": {
    "collapsed": false
   },
   "outputs": [],
   "source": [
    "class RiotCrawler:\n",
    "    def __init__(self, key):\n",
    "        self.key = key\n",
    "        self.w = RiotWatcher(key)\n",
    "        self.division = {\n",
    "            'bronze': [],\n",
    "            'silver': [],\n",
    "            'gold': [],\n",
    "            'platinum': [],\n",
    "            'diamond': [],\n",
    "            'challenger': [],\n",
    "            'master': [],\n",
    "        }\n",
    "\n",
    "    # def get_player_list(self):\n",
    "    #     recent_games = self.w.get_recent_games(self.player_id)\n",
    "    #     player_list = set()\n",
    "    #     for game in recent_games['games']:\n",
    "    #         # only pick up ranked games\n",
    "    #         if 'RANKED' in game['subType']:\n",
    "    #             fellow_players = game['fellowPlayers']\n",
    "    #             for fellow_player in fellow_players:\n",
    "    #                 fellow_player_id = fellow_player['summonerId']\n",
    "    #                 if fellow_player_id not in player_list:\n",
    "    #                     player_list.add(fellow_player_id)\n",
    "    #     return list(player_list)\n",
    "\n",
    "    def get_player_by_division(self, summoner_id):\n",
    "        request_url = 'https://na.api.pvp.net/api/lol/na/v2.5/league/by-summoner/{}?api_key={}'.format(\n",
    "            summoner_id, self.key\n",
    "        )\n",
    "        response = urllib2.urlopen(request_url)\n",
    "        division_info = ujson.loads(response.read())\n",
    "\n",
    "        tier = division_info[str(summoner_id)][0]['tier'].lower()\n",
    "        entries = division_info[str(summoner_id)][0]['entries']\n",
    "\n",
    "        level = self.division[tier]\n",
    "        # cnt = 0\n",
    "        for entry in entries:\n",
    "            level.append(entry['playerOrTeamId'])\n",
    "            # cnt += 1\n",
    "            # if cnt == 3:\n",
    "            #     break\n",
    "\n",
    "        # for l in level:\n",
    "        #     print 'summoner id: {}, name: {}'.format(str(l.id), l.name)\n",
    "\n",
    "\n",
    "def get_division():\n",
    "    # challenger: 77759242\n",
    "    # platinum: 53381\n",
    "    # gold: 70359816\n",
    "    # silver: 65213225\n",
    "    # bronze: 22309680\n",
    "    # master: 22551130\n",
    "    # diamond: 34570626\n",
    "    player_ids = [70359816, 77759242, 53381, 65213225, 22309680, 22551130, 34570626]\n",
    "    riot_crawler = RiotCrawler(config['key'])\n",
    "    for player_id in player_ids:\n",
    "        print 'start crawling id: {}'.format(player_id)\n",
    "        riot_crawler.get_player_by_division(player_id)\n",
    "    return riot_crawler.division\n",
    "\n",
    "\n",
    "# for tier, rank_dict in riot_crawler.division.iteritems():\n",
    "#     print '--- {} ---'.format(tier)\n",
    "#     for summoner in rank_dict:\n",
    "#         print 'summoner id: {}'.format(summoner)\n",
    "#     print '--- end of {} ---'.format(tier)"
   ]
  },
  {
   "cell_type": "markdown",
   "metadata": {},
   "source": [
    "#### 2. Fetch most frequently played champions\n",
    "\n",
    "Since we already had a dictionary of all user ids mapping to all categories of ranks, we can now use those user ids to get the stats data of their most frequently used champions. We will use the raw RESTful APIs of Riot with python here. And here are all the libraries needed in this process."
   ]
  },
  {
   "cell_type": "code",
   "execution_count": null,
   "metadata": {
    "collapsed": true
   },
   "outputs": [],
   "source": [
    "import csv\n",
    "import json\n",
    "import os\n",
    "import urllib2"
   ]
  },
  {
   "cell_type": "markdown",
   "metadata": {},
   "source": [
    "Then we can move on and fetch the data we need. Riot gives us the API to get all champions that a user had used during the season. And the response will be in JSON format. After parsing the JSON response, what we need to do is to get the most frequently used champions which can represent a player's level. So we sort the champions list by the number of games that the player used this champioin (totalSessionsPlayed) in descending order. Notice that the first element in the list will always be the champion with id 0, which represents the stats data of all champions that the player used in the season. So we need to skip that.\n",
    "\n",
    "After we filter out the top frequently used champions of a user, we need to save the stats data with the player's tier as the training label into a csv file. In this project, each champion has a corresponding csv file which records all the stats data of this hero with the tier of the player as the training data. Since there are hundreds of champions in League of Legend, we will have hundreds of csv files for training and each file uses the id of champions as the file name. If the file is already created, we will append more stats of this champion to the csv file."
   ]
  },
  {
   "cell_type": "code",
   "execution_count": null,
   "metadata": {
    "collapsed": true
   },
   "outputs": [],
   "source": [
    "class TopChampion:\n",
    "\n",
    "    FIELD_NAMES = ['totalSessionsPlayed', 'totalSessionsLost', 'totalSessionsWon',\n",
    "                   'totalChampionKills', 'totalDamageDealt', 'totalDamageTaken',\n",
    "                   'mostChampionKillsPerSession', 'totalMinionKills', 'totalDoubleKills',\n",
    "                   'totalTripleKills', 'totalQuadraKills', 'totalPentaKills',\n",
    "                   'totalUnrealKills', 'totalDeathsPerSession', 'totalGoldEarned',\n",
    "                   'mostSpellsCast', 'totalTurretsKilled', 'totalPhysicalDamageDealt',\n",
    "                   'totalMagicDamageDealt', 'totalFirstBlood', 'totalAssists',\n",
    "                   'maxChampionsKilled', 'maxNumDeaths', 'label']\n",
    "\n",
    "    def __init__(self, key, player_id, label, n):\n",
    "        self.label = label\n",
    "        self.player_id = player_id\n",
    "        self.key = key\n",
    "        self.n = n\n",
    "        self.top_champions = []\n",
    "        pass\n",
    "\n",
    "    def get_top_champions(self):\n",
    "        self.top_champions[:] = []\n",
    "        data = urllib2.urlopen(\n",
    "            'https://na.api.pvp.net/api/lol/na/v1.3/stats/by-summoner/' +\n",
    "            self.player_id +\n",
    "            '/ranked?season=SEASON2016&api_key=' +\n",
    "            self.key\n",
    "        ).read()\n",
    "        json_data = json.loads(data)\n",
    "        champions = json_data['champions']\n",
    "        champion_stats = []\n",
    "        for champion in champions:\n",
    "            champion_stat = champion['stats']\n",
    "            champion_stat['id'] = champion['id']\n",
    "            champion_stat['label'] = self.label\n",
    "            champion_stats.append(champion_stat)\n",
    "            pass\n",
    "        self.top_champions = sorted(champion_stats,\n",
    "                                    key=lambda x: x['totalSessionsPlayed'],\n",
    "                                    reverse=True)[1:self.n + 1]\n",
    "        return self.top_champions\n",
    "        pass\n",
    "\n",
    "    def save_top_champions(self):\n",
    "        for champion in self.top_champions:\n",
    "            file_name = '../data/{}.csv'.format(champion['id'])\n",
    "            if os.path.isfile(file_name):\n",
    "                with open(file_name, 'a') as csvfile:\n",
    "                    writer = csv.DictWriter(csvfile, fieldnames=self.FIELD_NAMES)\n",
    "                    writer.writerow(\n",
    "                        {\n",
    "                            'totalSessionsPlayed': champion['totalSessionsPlayed'],\n",
    "                            'totalSessionsLost': champion['totalSessionsLost'],\n",
    "                            'totalSessionsWon': champion['totalSessionsWon'],\n",
    "                            'totalChampionKills': champion['totalChampionKills'],\n",
    "                            'totalDamageDealt': champion['totalDamageDealt'],\n",
    "                            'totalDamageTaken': champion['totalDamageTaken'],\n",
    "                            'mostChampionKillsPerSession': champion['mostChampionKillsPerSession'],\n",
    "                            'totalMinionKills': champion['totalMinionKills'],\n",
    "                            'totalDoubleKills': champion['totalDoubleKills'],\n",
    "                            'totalTripleKills': champion['totalTripleKills'],\n",
    "                            'totalQuadraKills': champion['totalQuadraKills'],\n",
    "                            'totalPentaKills': champion['totalPentaKills'],\n",
    "                            'totalUnrealKills': champion['totalUnrealKills'],\n",
    "                            'totalDeathsPerSession': champion['totalDeathsPerSession'],\n",
    "                            'totalGoldEarned': champion['totalGoldEarned'],\n",
    "                            'mostSpellsCast': champion['mostSpellsCast'],\n",
    "                            'totalTurretsKilled': champion['totalTurretsKilled'],\n",
    "                            'totalPhysicalDamageDealt': champion['totalPhysicalDamageDealt'],\n",
    "                            'totalMagicDamageDealt': champion['totalMagicDamageDealt'],\n",
    "                            'totalFirstBlood': champion['totalFirstBlood'],\n",
    "                            'totalAssists': champion['totalAssists'],\n",
    "                            'maxChampionsKilled': champion['maxChampionsKilled'],\n",
    "                            'maxNumDeaths': champion['maxNumDeaths'],\n",
    "                            'label': champion['label']\n",
    "                        }\n",
    "                    )\n",
    "                    pass\n",
    "                pass\n",
    "            else:\n",
    "                with open(file_name, 'w') as csvfile:\n",
    "                    writer = csv.DictWriter(csvfile, fieldnames=self.FIELD_NAMES)\n",
    "                    writer.writeheader()\n",
    "                    writer.writerow(\n",
    "                        {\n",
    "                            'totalSessionsPlayed': champion['totalSessionsPlayed'],\n",
    "                            'totalSessionsLost': champion['totalSessionsLost'],\n",
    "                            'totalSessionsWon': champion['totalSessionsWon'],\n",
    "                            'totalChampionKills': champion['totalChampionKills'],\n",
    "                            'totalDamageDealt': champion['totalDamageDealt'],\n",
    "                            'totalDamageTaken': champion['totalDamageTaken'],\n",
    "                            'mostChampionKillsPerSession': champion['mostChampionKillsPerSession'],\n",
    "                            'totalMinionKills': champion['totalMinionKills'],\n",
    "                            'totalDoubleKills': champion['totalDoubleKills'],\n",
    "                            'totalTripleKills': champion['totalTripleKills'],\n",
    "                            'totalQuadraKills': champion['totalQuadraKills'],\n",
    "                            'totalPentaKills': champion['totalPentaKills'],\n",
    "                            'totalUnrealKills': champion['totalUnrealKills'],\n",
    "                            'totalDeathsPerSession': champion['totalDeathsPerSession'],\n",
    "                            'totalGoldEarned': champion['totalGoldEarned'],\n",
    "                            'mostSpellsCast': champion['mostSpellsCast'],\n",
    "                            'totalTurretsKilled': champion['totalTurretsKilled'],\n",
    "                            'totalPhysicalDamageDealt': champion['totalPhysicalDamageDealt'],\n",
    "                            'totalMagicDamageDealt': champion['totalMagicDamageDealt'],\n",
    "                            'totalFirstBlood': champion['totalFirstBlood'],\n",
    "                            'totalAssists': champion['totalAssists'],\n",
    "                            'maxChampionsKilled': champion['maxChampionsKilled'],\n",
    "                            'maxNumDeaths': champion['maxNumDeaths'],\n",
    "                            'label': champion['label']\n",
    "                        }\n",
    "                    )\n",
    "                    pass\n",
    "                pass\n",
    "            pass\n",
    "        pass\n",
    "    pass"
   ]
  },
  {
   "cell_type": "markdown",
   "metadata": {},
   "source": []
  },
  {
   "cell_type": "code",
   "execution_count": null,
   "metadata": {
    "collapsed": true
   },
   "outputs": [],
   "source": [
    "def main():\n",
    "    import time\n",
    "    division = get_division()\n",
    "    for tier, rank_dict in division.iteritems():\n",
    "        print 'starting tier: {}'.format(tier)\n",
    "        for summoner_id in rank_dict:\n",
    "            print 'tier: {}, summoner id: {}'.format(tier, summoner_id)\n",
    "            top_champion = TopChampion(config['key'], summoner_id, tier, 3)\n",
    "            top_champion.get_top_champions()\n",
    "            top_champion.save_top_champions()\n",
    "            time.sleep(1)\n",
    "        print 'end tier: {}'.format(tier)"
   ]
  }
 ],
 "metadata": {
  "kernelspec": {
   "display_name": "Python [Root]",
   "language": "python",
   "name": "Python [Root]"
  },
  "language_info": {
   "codemirror_mode": {
    "name": "ipython",
    "version": 2
   },
   "file_extension": ".py",
   "mimetype": "text/x-python",
   "name": "python",
   "nbconvert_exporter": "python",
   "pygments_lexer": "ipython2",
   "version": "2.7.12"
  }
 },
 "nbformat": 4,
 "nbformat_minor": 1
}
