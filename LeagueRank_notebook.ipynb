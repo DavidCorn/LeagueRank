{
 "cells": [
  {
   "cell_type": "markdown",
   "metadata": {},
   "source": [
    "# LeagueRank: A game skill evaluatioin application\n",
    "## <a name=\"introduction\"></a>Introduction\n",
    "\n",
    "Nowadays, League of Legends (LOL) is probably the most popular online MOBA game in the world, with over 67 million players every month. LOL is a real-time competing game, which requires skills and strategy. Thus, knowing about your ability and skills is important for people who want to reach a higher level, especially for the professional players. Currently, Riot Games (the producer of LOL) has only provided rank score to estimate the players integrated level. For specific champions' level, there's no official tools to precisely evaluate that. This project is aimed to reveal the players most frequently played champions' level and give players a guidance of how to horn his/her skills.\n",
    "\n",
    "Basically it is a *** multiclass classification *** problem in machine learning.\n",
    "\n",
    "![League of Legends](image/lol.jpg)\n",
    "\n",
    "For background knowledge, there are some terminology that need to be clarified:\n",
    "- **Summoner:** the player\n",
    "- **Champion:** the character summoner uses during the game\n",
    "- **Rank game:** LoL game includes rank game and unrank game, only would rank game be counted towards tier evaluation.\n",
    "- **Tier:** the level a summoner is in currently. There are seven tiers currently, from low to high: bronze, silver, gold, platinum, diamond, master and challenger.\n",
    "- **Division:** the sub-level a summoner is in. For example, bronze to diamond have 5 divisions, represented using Roman numbers (I-V), whereas master and challenger have only one division.\n",
    "- **ADC:** attack damage carry (one of the most important roles in LOL game)"
   ]
  },
  {
   "cell_type": "markdown",
   "metadata": {},
   "source": [
    "## Content\n",
    "\n",
    "1. [introduction](#introduction)\n",
    "2. [installing the library](#install)\n",
    "3. [project architecture](#architecture)\n",
    "    1. [data crawling](#crawl)\n",
    "        1. [fetch summoner list](#summonerList)\n",
    "        2. [fetch most frequently played champions](#mfpChampions)\n",
    "    2. [data process, training and analysis](#train)\n",
    "        1. [process raw data](#raw)\n",
    "        2. [k-fold cross validation](#cross-validation)\n",
    "        2. [K-Nearest Neighbors Model](#knn)\n",
    "        3. [Support Vector Machine Model](#svm)\n",
    "        4. [Convolutional Neural Network Model](#cnn)\n",
    "    3. [data visualization](#visualization)\n",
    "        1. [summoner prediction](#s-predict)\n",
    "        2. [summoner analysis](#s-analysis)\n",
    "        3. [champion popularity](#champion-popularity)"
   ]
  },
  {
   "cell_type": "markdown",
   "metadata": {},
   "source": [
    "## <a name=\"install\"></a>Installing the library\n",
    "\n",
    "Before getting started, we need to prepare some libraries. The main package we use to crawl the LOL data is called ```riotwatcher```, which is a [Python library](https://github.com/pseudonym117/Riot-Watcher) built up with the API provided by Riot. Also we used many other libraries as we did in our assignments. Installing thoses libraries via ```pip```:\n",
    "\n",
    "```pip install riotwatcher```\n",
    "\n",
    "```pip install urllib2```\n",
    "\n",
    "```pip install glob```\n",
    "\n",
    "```pip install pickle```\n",
    "\n",
    "```pip install wordcloud```\n",
    "\n",
    "```pip install matplotlib```\n",
    "\n",
    "```pip install pandas```\n",
    "\n",
    "```pip install numpy```\n",
    "\n",
    "```pip install sklearn```\n",
    "\n",
    "```pip install keras ```\n",
    "\n",
    "After you run all the installs, make sure the following commands work for you:"
   ]
  },
  {
   "cell_type": "code",
   "execution_count": 49,
   "metadata": {
    "collapsed": false
   },
   "outputs": [],
   "source": [
    "%matplotlib inline\n",
    "import csv\n",
    "import json\n",
    "import os\n",
    "import ujson\n",
    "import urllib2\n",
    "import glob\n",
    "import pickle\n",
    "import re\n",
    "import time\n",
    "from wordcloud import WordCloud\n",
    "import matplotlib.pyplot as plt\n",
    "import pandas as pd\n",
    "import numpy as np\n",
    "import scipy as sp\n",
    "\n",
    "from riotwatcher import RiotWatcher"
   ]
  },
  {
   "cell_type": "markdown",
   "metadata": {},
   "source": [
    "To use the Riot api, one more important thing to do is to get your own API key. API key can be obtained from [here](https://developer.riotgames.com/). Note that normal developr API key has a narrow request limit, whereas production API key for commercial use has a looser requirement of request limit.\n",
    "\n",
    "After getting your own API key, put it in the config dictionary below:"
   ]
  },
  {
   "cell_type": "code",
   "execution_count": 50,
   "metadata": {
    "collapsed": true
   },
   "outputs": [],
   "source": [
    "config = {\n",
    "    'key': 'your key',\n",
    "}"
   ]
  },
  {
   "cell_type": "markdown",
   "metadata": {},
   "source": [
    "## <a name=\"architecture\"></a>Project Architecture\n",
    "### <a name=\"crawl\"></a>Data Crawling\n",
    "\n",
    "The architecture for data crawler is shown as follow:\n",
    "![Data crawling architecture](image/RiotCrawler_arch.png)\n",
    "\n",
    "\n",
    "*** Notice that the [LOL S7 version](http://na.leagueoflegends.com/en/news/game-updates/competitive/2017-ranked-season-kicks) was released on December 7th 2016. And the data crawled and used in this project were from the last version which is S6. And since the S7 version was just released several days ago, there are no available data from Riot Co. currently. So you might find that there are 404 errors if you want to crawl the data as we did. But don't worry. We provided the data we crawled of LOL S6 version for you to use in this project. ***\n",
    "\n",
    "The process of crawling data could be simplified as follows: \n",
    "1) Get summoners list from LOL server;\n",
    "2) For each summoner, get his/her top 3 frequently played champions;\n",
    "3) Fetch each champion's game stats for 2016 season (latest entire season);\n",
    "4) Put the fetched data into corresponding csv file for storage.\n",
    "\n",
    "#### <a name=\"summonerList\"></a>1. Fetch summoner list\n",
    "\n",
    "First of all, we need to fetch the summoner information down. Riot has provided with the api to get summoner information by leagues. League is the partial data in a tier. For example, in gold tier, we have summoners in gold I, gold II, gold III, gold IV and gold V. The summoners in gold tier are divided into several leagues, each league contains summoners in all ranges.\n",
    "\n",
    "The ```__init__``` method of ```RiotCrawler``` define the tiers, ```get_player_by_tier``` fetches the summoner list in different leagues according to the provided summoner ids. "
   ]
  },
  {
   "cell_type": "code",
   "execution_count": 51,
   "metadata": {
    "collapsed": true
   },
   "outputs": [],
   "source": [
    "class RiotCrawler:\n",
    "    def __init__(self, key):\n",
    "        self.key = key\n",
    "        self.w = RiotWatcher(key)\n",
    "        self.tiers = {\n",
    "            'bronze': [],\n",
    "            'silver': [],\n",
    "            'gold': [],\n",
    "            'platinum': [],\n",
    "            'diamond': [],\n",
    "            'challenger': [],\n",
    "            'master': [],\n",
    "        }\n",
    "\n",
    "    def get_player_by_tier(self, summoner_id):\n",
    "        request_url = 'https://na.api.pvp.net/api/lol/na/v2.5/league/by-summoner/{}?api_key={}'.format(\n",
    "            summoner_id, self.key\n",
    "        )\n",
    "        response = urllib2.urlopen(request_url)\n",
    "        tier_info = ujson.loads(response.read())\n",
    "\n",
    "        tier = tier_info[str(summoner_id)][0]['tier'].lower()\n",
    "        entries = tier_info[str(summoner_id)][0]['entries']\n",
    "\n",
    "        level = self.tiers[tier]\n",
    "        for entry in entries:\n",
    "            level.append(entry['playerOrTeamId'])\n",
    "\n",
    "#         for l in level:\n",
    "#             print 'summoner id: {}'.format(str(l))"
   ]
  },
  {
   "cell_type": "markdown",
   "metadata": {},
   "source": [
    "```get_tier``` will return a divisioin dictionary, whose keys are the tier name, and values are the summoner id list in each tier. The results are printed in a human-readable format, categorized by tier."
   ]
  },
  {
   "cell_type": "code",
   "execution_count": 52,
   "metadata": {
    "collapsed": false
   },
   "outputs": [
    {
     "name": "stdout",
     "output_type": "stream",
     "text": [
      "start crawling id: 70359816\n",
      "start crawling id: 77759242\n",
      "start crawling id: 53381\n",
      "start crawling id: 65213225\n",
      "start crawling id: 22309680\n",
      "start crawling id: 22551130\n",
      "start crawling id: 34570626\n"
     ]
    }
   ],
   "source": [
    "def get_tier():\n",
    "    # challenger: 77759242\n",
    "    # platinum: 53381\n",
    "    # gold: 70359816\n",
    "    # silver: 65213225\n",
    "    # bronze: 22309680\n",
    "    # master: 22551130\n",
    "    # diamond: 34570626\n",
    "    player_ids = [70359816, 77759242, 53381, 65213225, 22309680, 22551130, 34570626]\n",
    "    riot_crawler = RiotCrawler(config['key'])\n",
    "    for player_id in player_ids:\n",
    "        print 'start crawling id: {}'.format(player_id)\n",
    "        try:\n",
    "            riot_crawler.get_player_by_tier(player_id)\n",
    "        except:\n",
    "            continue\n",
    "    return riot_crawler.tiers\n",
    "\n",
    "tiers = get_tier()\n",
    "for tier, rank_dict in tiers.iteritems():\n",
    "    print '--- {} ---'.format(tier)\n",
    "    for summoner in rank_dict:\n",
    "        print 'summoner id: {}'.format(summoner)\n",
    "    print '--- end of {} ---'.format(tier)"
   ]
  },
  {
   "cell_type": "markdown",
   "metadata": {},
   "source": [
    "#### <a name=\"mfpChampions\"></a>2. Fetch most frequently played champions\n",
    "\n",
    "Since we already had a dictionary of all user ids mapping to all categories of ranks, we can now use those user ids to get the stats data of their most frequently used champions.\n",
    "\n",
    "Riot gives us the API to get all champions that a user had used during the season. And the response will be in JSON format. After parsing the JSON response, what we need to do is to get the most frequently used champions which can represent a player's level. So we sort the champions list by the number of games that the player used this champioin (totalSessionsPlayed) in descending order. Notice that the first element in the list will always be the champion with id 0, which represents the stats data of all champions that the player used in the season. So we need to skip that.\n",
    "\n",
    "After we filter out the top frequently used champions of a user, we need to save the stats data with the player's tier as the training label into a csv file. In this project, each champion has a corresponding csv file which records all the stats data of this hero with the tier of the player as the training data. Since there are hundreds of champions in League of Legend, we will have hundreds of csv files for training and each file uses the id of champions as the file name. If the file is already created, we will append more stats of this champion to the csv file."
   ]
  },
  {
   "cell_type": "code",
   "execution_count": 53,
   "metadata": {
    "collapsed": true
   },
   "outputs": [],
   "source": [
    "class TopChampion:\n",
    "\n",
    "    FIELD_NAMES = ['totalSessionsPlayed', 'totalSessionsLost', 'totalSessionsWon',\n",
    "                   'totalChampionKills', 'totalDamageDealt', 'totalDamageTaken',\n",
    "                   'mostChampionKillsPerSession', 'totalMinionKills', 'totalDoubleKills',\n",
    "                   'totalTripleKills', 'totalQuadraKills', 'totalPentaKills',\n",
    "                   'totalUnrealKills', 'totalDeathsPerSession', 'totalGoldEarned',\n",
    "                   'mostSpellsCast', 'totalTurretsKilled', 'totalPhysicalDamageDealt',\n",
    "                   'totalMagicDamageDealt', 'totalFirstBlood', 'totalAssists',\n",
    "                   'maxChampionsKilled', 'maxNumDeaths', 'label']\n",
    "\n",
    "    def __init__(self, key, player_id, label, n):\n",
    "        self.label = label\n",
    "        self.player_id = player_id\n",
    "        self.key = key\n",
    "        self.n = n\n",
    "        self.top_champions = []\n",
    "        pass\n",
    "\n",
    "    def get_top_champions(self):\n",
    "        self.top_champions[:] = []\n",
    "        data = urllib2.urlopen(\n",
    "            'https://na.api.pvp.net/api/lol/na/v1.3/stats/by-summoner/' +\n",
    "            self.player_id +\n",
    "            '/ranked?season=SEASON2016&api_key=' +\n",
    "            self.key\n",
    "        ).read()\n",
    "        json_data = json.loads(data)\n",
    "        champions = json_data['champions']\n",
    "        champion_stats = []\n",
    "        for champion in champions:\n",
    "            champion_stat = champion['stats']\n",
    "            champion_stat['id'] = champion['id']\n",
    "            champion_stat['label'] = self.label\n",
    "            champion_stats.append(champion_stat)\n",
    "            pass\n",
    "        self.top_champions = sorted(champion_stats,\n",
    "                                    key=lambda x: x['totalSessionsPlayed'],\n",
    "                                    reverse=True)[1:self.n + 1]\n",
    "        return self.top_champions\n",
    "        pass\n",
    "\n",
    "    def save_top_champions(self, champion_id=None):\n",
    "        for champion in self.top_champions:\n",
    "            if not champion_id:\n",
    "                champion_id = champion['id']\n",
    "            file_name = './data/{}.csv'.format(champion['id'])\n",
    "            if os.path.isfile(file_name):\n",
    "                with open(file_name, 'a') as csvfile:\n",
    "                    writer = csv.DictWriter(csvfile, fieldnames=self.FIELD_NAMES)\n",
    "                    writer.writerow(\n",
    "                        {\n",
    "                            'totalSessionsPlayed': champion['totalSessionsPlayed'],\n",
    "                            'totalSessionsLost': champion['totalSessionsLost'],\n",
    "                            'totalSessionsWon': champion['totalSessionsWon'],\n",
    "                            'totalChampionKills': champion['totalChampionKills'],\n",
    "                            'totalDamageDealt': champion['totalDamageDealt'],\n",
    "                            'totalDamageTaken': champion['totalDamageTaken'],\n",
    "                            'mostChampionKillsPerSession': champion['mostChampionKillsPerSession'],\n",
    "                            'totalMinionKills': champion['totalMinionKills'],\n",
    "                            'totalDoubleKills': champion['totalDoubleKills'],\n",
    "                            'totalTripleKills': champion['totalTripleKills'],\n",
    "                            'totalQuadraKills': champion['totalQuadraKills'],\n",
    "                            'totalPentaKills': champion['totalPentaKills'],\n",
    "                            'totalUnrealKills': champion['totalUnrealKills'],\n",
    "                            'totalDeathsPerSession': champion['totalDeathsPerSession'],\n",
    "                            'totalGoldEarned': champion['totalGoldEarned'],\n",
    "                            'mostSpellsCast': champion['mostSpellsCast'],\n",
    "                            'totalTurretsKilled': champion['totalTurretsKilled'],\n",
    "                            'totalPhysicalDamageDealt': champion['totalPhysicalDamageDealt'],\n",
    "                            'totalMagicDamageDealt': champion['totalMagicDamageDealt'],\n",
    "                            'totalFirstBlood': champion['totalFirstBlood'],\n",
    "                            'totalAssists': champion['totalAssists'],\n",
    "                            'maxChampionsKilled': champion['maxChampionsKilled'],\n",
    "                            'maxNumDeaths': champion['maxNumDeaths'],\n",
    "                            'label': champion['label']\n",
    "                        }\n",
    "                    )\n",
    "                    pass\n",
    "                pass\n",
    "            else:\n",
    "                with open(file_name, 'w') as csvfile:\n",
    "                    writer = csv.DictWriter(csvfile, fieldnames=self.FIELD_NAMES)\n",
    "                    writer.writeheader()\n",
    "                    writer.writerow(\n",
    "                        {\n",
    "                            'totalSessionsPlayed': champion['totalSessionsPlayed'],\n",
    "                            'totalSessionsLost': champion['totalSessionsLost'],\n",
    "                            'totalSessionsWon': champion['totalSessionsWon'],\n",
    "                            'totalChampionKills': champion['totalChampionKills'],\n",
    "                            'totalDamageDealt': champion['totalDamageDealt'],\n",
    "                            'totalDamageTaken': champion['totalDamageTaken'],\n",
    "                            'mostChampionKillsPerSession': champion['mostChampionKillsPerSession'],\n",
    "                            'totalMinionKills': champion['totalMinionKills'],\n",
    "                            'totalDoubleKills': champion['totalDoubleKills'],\n",
    "                            'totalTripleKills': champion['totalTripleKills'],\n",
    "                            'totalQuadraKills': champion['totalQuadraKills'],\n",
    "                            'totalPentaKills': champion['totalPentaKills'],\n",
    "                            'totalUnrealKills': champion['totalUnrealKills'],\n",
    "                            'totalDeathsPerSession': champion['totalDeathsPerSession'],\n",
    "                            'totalGoldEarned': champion['totalGoldEarned'],\n",
    "                            'mostSpellsCast': champion['mostSpellsCast'],\n",
    "                            'totalTurretsKilled': champion['totalTurretsKilled'],\n",
    "                            'totalPhysicalDamageDealt': champion['totalPhysicalDamageDealt'],\n",
    "                            'totalMagicDamageDealt': champion['totalMagicDamageDealt'],\n",
    "                            'totalFirstBlood': champion['totalFirstBlood'],\n",
    "                            'totalAssists': champion['totalAssists'],\n",
    "                            'maxChampionsKilled': champion['maxChampionsKilled'],\n",
    "                            'maxNumDeaths': champion['maxNumDeaths'],\n",
    "                            'label': champion['label']\n",
    "                        }\n",
    "                    )\n",
    "                    pass\n",
    "                pass\n",
    "            pass\n",
    "        pass\n",
    "    pass"
   ]
  },
  {
   "cell_type": "markdown",
   "metadata": {},
   "source": [
    "With the above class, now we can start crawling the stats data of all champions saving them to csv files by the following code. Notice that this process is pretty slow since we added the sleep methods in our code. Riot APIs have a limitation on the API calls rate. You cannot send more than 500 requests per 10 minutes. So everytime we send a request here, we sleep for 1 second to prevent error responses."
   ]
  },
  {
   "cell_type": "code",
   "execution_count": 54,
   "metadata": {
    "collapsed": false
   },
   "outputs": [],
   "source": [
    "def main():\n",
    "    tiers = get_tier()\n",
    "    for tier, rank_dict in tiers.iteritems():\n",
    "        print 'starting tier: {}'.format(tier)\n",
    "        for summoner_id in rank_dict:\n",
    "            print 'tier: {}, summoner id: {}'.format(tier, summoner_id)\n",
    "            top_champion = TopChampion(config['key'], summoner_id, tier, 3)\n",
    "            top_champion.get_top_champions()\n",
    "            top_champion.save_top_champions()\n",
    "            time.sleep(2)\n",
    "        print 'end tier: {}'.format(tier)\n",
    "main()"
   ]
  },
  {
   "cell_type": "markdown",
   "metadata": {},
   "source": [
    "### <a name=\"train\"></a>Data process, training and Analysis\n",
    "#### <a name=\"raw\"></a>Process raw data\n",
    "Given the data we crawled from the previous part, now we need to process them and make sure that they can be used for later training part. Although we did a little processing work in crawling part to store data into csv format, we still need to group champions with the same type together. Here we take the role of \"ADC\" as an example in our project. We get all \"ADC\" champions from [this website](http://na.op.gg/champion/statistics)."
   ]
  },
  {
   "cell_type": "code",
   "execution_count": 55,
   "metadata": {
    "collapsed": true
   },
   "outputs": [],
   "source": [
    "adc_idx = [202, 42, 67, 222, 29, 51, 96, 81, 21, 6, 119, 15, 22, 236, 110, 18, 429]\n",
    "dfs = list()\n",
    "for adc_id in adc_idx:\n",
    "    df = pd.read_csv('./data/{}.csv'.format(adc_id))\n",
    "    dfs.append(df)\n",
    "    pass\n",
    "res = pd.concat(dfs, ignore_index=True, verify_integrity=True)\n",
    "res.to_csv('./data/adc.csv', index=False)"
   ]
  },
  {
   "cell_type": "markdown",
   "metadata": {},
   "source": [
    "Now we generate a new adc.csv file of all data we collected for the \"ADC\" champions. The next thing we need to do is to group the data of \"ADC\" of different levels together. Because later we will use k-fold cross validation on the data and we need to sample the same ratio of data of different levels for testing.\n",
    "\n",
    "For the labels in crawled data, they are now python strings of \"bronze\", \"silver\", \"gold\", \"platinum\", \"diamond\", \"challenger\", \"master\". We mapped them from 0 to 6.\n",
    "\n",
    "And since different features here have different scales of their values. For example, the \"totalPhysicalDamageDealt\" can be more than a 1000,000 while \"totalSessionsLost\" are mostly less than 100. So we also implement a normalize function which is used to scale each attribute into the same scale. Although this normalize function may not affect the final results and accuracies, it will definitely make training processes much faster.\n",
    "\n",
    "Also, since we only focus on \"ADC\" champioins, we can drop some obviously not relavant features in this step."
   ]
  },
  {
   "cell_type": "code",
   "execution_count": 56,
   "metadata": {
    "collapsed": true
   },
   "outputs": [],
   "source": [
    "def string_to_int(s):\n",
    "    if s == 'bronze':\n",
    "        return 0\n",
    "    elif s == 'silver':\n",
    "        return 1\n",
    "    elif s == 'gold':\n",
    "        return 2\n",
    "    elif s == 'platinum':\n",
    "        return 3\n",
    "    elif s == 'diamond':\n",
    "        return 4\n",
    "    elif s == 'challenger':\n",
    "        return 5\n",
    "    else:\n",
    "        return 6\n",
    "    pass\n",
    "\n",
    "\n",
    "def normalize(X):\n",
    "    n, m = X.shape\n",
    "    for i in range(m):\n",
    "        col_max = np.max(X[:, i])\n",
    "        col_min = np.min(X[:, i])\n",
    "        col_delta = col_max - col_min + 1.0\n",
    "        X[:, i] = (X[:, i] - col_min) / col_delta\n",
    "        pass\n",
    "    return X\n",
    "    pass\n",
    "\n",
    "\n",
    "def preprocess_adc(filename):\n",
    "    df = pd.read_csv(filename, index_col=False)\n",
    "    y = df['label'].map(lambda x: string_to_int(x)).as_matrix()\n",
    "    df_t = df.drop(['totalDamageDealt', 'totalDamageTaken', 'totalDoubleKills', 'totalTripleKills',\n",
    "                    'totalQuadraKills', 'totalPentaKills', 'totalUnrealKills', 'mostSpellsCast',\n",
    "                    'totalTurretsKilled', 'totalMagicDamageDealt', 'totalFirstBlood'], axis=1)\n",
    "    X = df_t.drop(['label'], axis=1).as_matrix().astype(float)\n",
    "    X = normalize(X)\n",
    "    uniques = np.unique(y)\n",
    "    X_list = list()\n",
    "    y_list = list()\n",
    "    for unique in uniques:\n",
    "        idxes = y == unique\n",
    "        X_list.append(X[idxes])\n",
    "        y_list.append(y[idxes])\n",
    "        pass\n",
    "    return X_list, y_list, df_t\n",
    "    pass\n"
   ]
  },
  {
   "cell_type": "markdown",
   "metadata": {},
   "source": [
    "#### <a name=\"cross-validation\"></a>K-fold cross validation\n",
    "To prevent overfitting and analyze our machine learning models, we applied K-fold cross validation here. The function below will return a list of k folds. Each fold in the list is a tuple of training X matrix, training y vector, test X matrix and test y vector."
   ]
  },
  {
   "cell_type": "code",
   "execution_count": 57,
   "metadata": {
    "collapsed": true
   },
   "outputs": [],
   "source": [
    "def cross_validation(X_list, y_list, k=10):\n",
    "    res = list()\n",
    "    n = len(y_list)\n",
    "    for i in range(k):\n",
    "        X_tr_list = list()\n",
    "        X_te_list = list()\n",
    "        y_tr_list = list()\n",
    "        y_te_list = list()\n",
    "        for j in range(n):\n",
    "            X_j = X_list[j]\n",
    "            y_j = y_list[j]\n",
    "            m = len(y_j)\n",
    "            test_num = m / k\n",
    "            test_start_idx = i * test_num\n",
    "            test_end_idx = test_start_idx + test_num\n",
    "            test_idx = range(test_start_idx, test_end_idx)\n",
    "            train_idx = range(0, test_start_idx) + range(test_end_idx, m)\n",
    "            X_tr_list.append(X_j[train_idx])\n",
    "            y_tr_list.append(y_j[train_idx])\n",
    "            X_te_list.append(X_j[test_idx])\n",
    "            y_te_list.append(y_j[test_idx])\n",
    "            pass\n",
    "        X_tr = np.concatenate(X_tr_list)\n",
    "        y_tr = np.concatenate(y_tr_list)\n",
    "        X_te = np.concatenate(X_te_list)\n",
    "        y_te = np.concatenate(y_te_list)\n",
    "        res.append((X_tr, y_tr, X_te, y_te))\n",
    "        pass\n",
    "    return res\n",
    "    pass"
   ]
  },
  {
   "cell_type": "code",
   "execution_count": 58,
   "metadata": {
    "collapsed": false
   },
   "outputs": [],
   "source": [
    "features_list, labels_list, df_avg = preprocess_adc('./data/adc.csv')\n",
    "cf_list = cross_validation(features_list, labels_list)\n",
    "k = len(cf_list)"
   ]
  },
  {
   "cell_type": "markdown",
   "metadata": {},
   "source": [
    "#### <a name=\"knn\"></a>K-Nearest Neighbors (KNN) Model\n",
    "##### Why KNN model?\n",
    "KNN was the first model that we came up with in this project, because it is a simple lazy learner and after dropping the irrelavant features we have don't have a lot of features for each instance of the data. Also we have a lot of training data, which should be enough for building a good KNN model. Moreover, the training process of KNN should be very fast and it can learn pretty complex target functions.\n",
    "\n",
    "##### Model Design\n",
    "The training process of KNN model is just simply storing every instance of training data. And the predicting process of KNN is just finding the k nearest points (instances of data) of current point in the memory and predicting the label of current point by asking the k nearest points to vote. The votes from the neighbors are simply their labels.\n",
    "\n",
    "Moreover, we think the nearer neighbors should be more important than farther points in voting process. So we used the distance-weighted KNN model in our project.\n",
    "\n",
    "The last thing to do is to decide the number of neighbors to consider in this model. Here we tried different k values in this model and compare the performances (accuracies) between models with different k values."
   ]
  },
  {
   "cell_type": "code",
   "execution_count": 59,
   "metadata": {
    "collapsed": false
   },
   "outputs": [
    {
     "data": {
      "image/png": "[encoded data removed]",
      "text/plain": [
       "<matplotlib.figure.Figure at 0x11df94fd0>"
      ]
     },
     "metadata": {},
     "output_type": "display_data"
    },
    {
     "data": {
      "image/png": "[encoded data removed]",
      "text/plain": [
       "<matplotlib.figure.Figure at 0x11dfa1d10>"
      ]
     },
     "metadata": {},
     "output_type": "display_data"
    }
   ],
   "source": [
    "from sklearn.neighbors import KNeighborsClassifier\n",
    "\n",
    "neighbor_nums = [3, 5, 10, 15, 20, 30, 40, 60, 80, 100, 200]\n",
    "n = len(neighbor_nums)\n",
    "knn_accuracies = np.zeros((k, n))\n",
    "for i in range(k):\n",
    "    X_tr, y_tr, X_te, y_te = cf_list[i]\n",
    "    for j in range(n):\n",
    "        knn = KNeighborsClassifier(n_neighbors=neighbor_nums[j], weights='distance')\n",
    "        knn.fit(X_tr, y_tr)\n",
    "        knn_accuracies[i, j] = knn.score(X_te, y_te)\n",
    "        pass\n",
    "    pass\n",
    "\n",
    "knn_mean_accuracies = np.mean(knn_accuracies, axis=0)\n",
    "knn_std_accuracies = np.std(knn_accuracies, axis=0)\n",
    "\n",
    "plt.figure(1)\n",
    "plt.plot(neighbor_nums, knn_mean_accuracies)\n",
    "plt.xlabel('The value of k nearest neighbors')\n",
    "plt.ylabel('Mean accuracy across all folds')\n",
    "plt.figure(2)\n",
    "plt.plot(neighbor_nums, knn_std_accuracies)\n",
    "plt.xlabel('The value of k nearest neighbors')\n",
    "plt.ylabel('Standard Deviation of accuracies across all folds')\n",
    "plt.show()"
   ]
  },
  {
   "cell_type": "markdown",
   "metadata": {},
   "source": [
    "##### KNN Analysis\n",
    "From the figures above, we can see that the accuracy reaches its maximum when k is around 20. And after that the accuracy will go down. While the standard deviation across all folds is always going down with the value of k going up. This is an important property of KNN.\n",
    "\n",
    "But the problem is that the accuracies are low no matter which k value we selected and no matter which fold we used. The maximum accuracy is around 50% with k = 20 in the KNN model.\n",
    "\n",
    "We think this is probably caused by possible irrelavant features remaining and the noise in the training data and the KNN model is not good at dealing with such cases."
   ]
  },
  {
   "cell_type": "markdown",
   "metadata": {},
   "source": [
    "#### <a name=\"svm\"></a>Support Vector Machine (SVM) Model\n",
    "##### Why SVM model?\n",
    "Since we failed using the KNN model in predicting results, we would like to try SVM model instead in this project. From the class we know that the key idea of the SVM model is maximizing the margins between different clusters of the data with different labels. It is a eager learner which may consume more time during training process compared with the KNN model. But it should be able to handle the irrelavant features and some noises in the training data.\n",
    "\n",
    "##### Model Design\n",
    "Here we used C-Support Vector Machine, which has an adjustable field 'C'. It is used to add penalty for misclassification. If the C value gets smaller the penalty will be smaller, but the margin will be larger. So it cannot be too large or too tiny. If it is too large, the margin will be too small which might lead to overfitting. And if it is too small, there will be too many misclassification which makes the accuracy lower. Here we make C to be 40, which is a fairly safe value to use.\n",
    "\n",
    "Moreover, since there are a few kernel functions we can choose from for SVM, here we just tried all of them and compared their results."
   ]
  },
  {
   "cell_type": "code",
   "execution_count": 60,
   "metadata": {
    "collapsed": false
   },
   "outputs": [],
   "source": [
    "from sklearn.svm import SVC\n",
    "\n",
    "kernels = ['linear', 'poly', 'rbf', 'sigmoid']\n",
    "kernel_num = len(kernels)\n",
    "svm_accuracies = np.zeros((k, kernel_num))\n",
    "for i in range(k):\n",
    "    X_tr, y_tr, X_te, y_te = cf_list[i]\n",
    "    for j in range(kernel_num):\n",
    "        svm = SVC(C=40, kernel=kernels[j])\n",
    "        svm.fit(X_tr, y_tr)\n",
    "        svm_accuracies[i, j] = svm.score(X_te, y_te)\n",
    "        pass\n",
    "    pass\n"
   ]
  },
  {
   "cell_type": "code",
   "execution_count": 61,
   "metadata": {
    "collapsed": false
   },
   "outputs": [
    {
     "data": {
      "image/png": "[encoded data removed]",
      "text/plain": [
       "<matplotlib.figure.Figure at 0x11dd2f710>"
      ]
     },
     "metadata": {},
     "output_type": "display_data"
    },
    {
     "data": {
      "image/png": "[encoded data removed]",
      "text/plain": [
       "<matplotlib.figure.Figure at 0x11dd4e090>"
      ]
     },
     "metadata": {},
     "output_type": "display_data"
    }
   ],
   "source": [
    "svm_mean_accuracies = np.mean(svm_accuracies, axis=0)\n",
    "svm_std_accuracies = np.std(svm_accuracies, axis=0)\n",
    "plt.figure(3)\n",
    "plt.bar(range(4), svm_mean_accuracies, align='center')\n",
    "plt.xticks(range(4), kernels)\n",
    "plt.ylabel('Mean accuracy')\n",
    "plt.figure(4)\n",
    "plt.bar(range(4), svm_std_accuracies, align='center')\n",
    "plt.xticks(range(4), kernels)\n",
    "plt.ylabel('Standard deviation across folds')\n",
    "plt.show()"
   ]
  },
  {
   "cell_type": "markdown",
   "metadata": {
    "collapsed": false
   },
   "source": [
    "##### SVM Analysis\n",
    "From the results above we can see that the linear kernel works best in this project, because most of the features are linear to the labels. For example, players at higher level should win more games with their champion, so the total sessions won should be in linear relationship to the level the player at.\n",
    "\n",
    "The maximum accuracy can be around 70% in this project. It looks pretty good since this is a multiclass classification problem in real world. But we are not satisfied with this result. We will try using Convolutional Neural Network to achieve even better performance."
   ]
  },
  {
   "cell_type": "markdown",
   "metadata": {
    "collapsed": true
   },
   "source": [
    "#### <a name=\"cnn\"></a>Convolutional Neural Network (CNN) Model\n",
    "##### Why CNN Model?\n",
    "\n",
    "Compared with KNN model, Convolutional Neural Network(CNN) model has much faster classifying speed, and in general, could probably produce higher classification accuracy. Compared to SVM model, CNN model has deeper neural netan work architecture, and can provide more information than max margin classifiaction.\n",
    "\n",
    "Another reason that we use CNN is that we wish to extract the unrevealed feature based on summoners game data. CNN would provide us an effective way to automatically extract feature to distinguish different summoners' game level.\n",
    "\n",
    "##### Model Design\n",
    "The architecture of our CNN model is as follows:\n",
    "![CNN architecture](image/cnn_arch.jpg)\n",
    "\n",
    "The CNN model contains two parts: feature extraction and multi-classification. The feature extraction part consists of four convolutonal layer and a max-pooling layer. The multi-classification part contains two fully connected layer. We will talk about the two parts in details.\n",
    "\n",
    "**1. Feature Extraction**\n",
    "In order to add convolutional layer, we use zero padding layer on top of convolutional layer to maintain the dimensions. To reduce computation and the number of parameters, we add a max pooling layer at the end of every two convolutional layer. Adding max pooling layer can also prevent from overfitting.\n",
    "\n",
    "**2. Multi-Classification**\n",
    "Then we pass the training feature to do the multi-classification using two fully-connected layers. The hidden layer units are activated using LeRU, and the output function is a softmax function with 7 labels.\n",
    "\n",
    "To implement the neural network, we choose keras as framework and Tensorflow as backend. The code describing the process are shown below:"
   ]
  },
  {
   "cell_type": "code",
   "execution_count": 62,
   "metadata": {
    "collapsed": false
   },
   "outputs": [],
   "source": [
    "from keras.models import Sequential\n",
    "from keras.layers import Flatten\n",
    "from keras.layers.core import Dense, Dropout\n",
    "from keras.layers.convolutional import Convolution1D, MaxPooling1D, ZeroPadding1D\n",
    "from keras.regularizers import l2, activity_l2\n",
    "\n",
    "from keras.utils.np_utils import to_categorical\n",
    "\n",
    "\n",
    "def classify(X, y, X_te):\n",
    "    _, n = X.shape\n",
    "    model = Sequential()\n",
    "\n",
    "    model.add(ZeroPadding1D(input_shape=(n, 1)))\n",
    "    model.add(Convolution1D(64, 3, activation='relu'))\n",
    "    model.add(ZeroPadding1D())\n",
    "    model.add(Convolution1D(64, 3, activation='relu'))\n",
    "    model.add(MaxPooling1D())\n",
    "\n",
    "    model.add(ZeroPadding1D())\n",
    "    model.add(Convolution1D(128, 3, activation='relu'))\n",
    "    model.add(ZeroPadding1D())\n",
    "    model.add(Convolution1D(128, 3, activation='relu'))\n",
    "    model.add(MaxPooling1D())\n",
    "\n",
    "    model.add(Flatten())\n",
    "\n",
    "    model.add(Dense(256, activation='relu', W_regularizer=l2(0.01), activity_regularizer=activity_l2(0.01)))\n",
    "    model.add(Dropout(0.6))\n",
    "    model.add(Dense(7, activation='softmax'))\n",
    "\n",
    "    model.compile(loss='categorical_crossentropy', optimizer='rmsprop', metrics=[\n",
    "        'categorical_accuracy', 'mean_squared_error', 'mean_absolute_error'\n",
    "    ])\n",
    "    y = to_categorical(y, nb_classes=None)\n",
    "    model.fit(np.expand_dims(X, axis=2), y, nb_epoch=500, verbose=0)\n",
    "\n",
    "    return model.predict_classes(np.expand_dims(X_te, axis=2))\n"
   ]
  },
  {
   "cell_type": "markdown",
   "metadata": {},
   "source": [
    "##### Result\n",
    "Here we use the ```adc.csv``` file as our dataset, and use cross validation to fetch our training and testing data. We set our training epoch as 500, using ```rmsprop``` as the optimizer.\n",
    "\n",
    "The following code gives a method to compute the accuracy between the final result and the test result."
   ]
  },
  {
   "cell_type": "code",
   "execution_count": 63,
   "metadata": {
    "collapsed": true
   },
   "outputs": [],
   "source": [
    "def accuracy(training_result, y_te):\n",
    "    return np.sum(training_result==y_te) / float(len(training_result))"
   ]
  },
  {
   "cell_type": "code",
   "execution_count": 68,
   "metadata": {
    "collapsed": false
   },
   "outputs": [
    {
     "name": "stdout",
     "output_type": "stream",
     "text": [
      "138/138 [==============================] - 0s     \n",
      "0.869565217391\n"
     ]
    }
   ],
   "source": [
    "X_tr, y_tr, X_te, y_te = cf_list[0]\n",
    "predict_class = classify(X_tr, y_tr, X_te)\n",
    "print accuracy(predict_class, y_te)"
   ]
  },
  {
   "cell_type": "markdown",
   "metadata": {},
   "source": [
    "The training results of the training data (in the first iteration) is as follow (plot by matplotlib using results from keras):\n",
    "<img src=\"image/training_acc.jpg\" alt=\"Drawing\" style=\"width: 500px;\"/>\n",
    "<img src=\"image/mse.jpg\" alt=\"Drawing\" style=\"width: 500px;\"/>\n",
    "\n",
    "The test result gives an accuracy of 0.87 on average."
   ]
  },
  {
   "cell_type": "markdown",
   "metadata": {},
   "source": [
    "##### Analysis\n",
    "\n",
    "Our CNN model gives an accuracy around 87%, which could provide a pretty good prediction for summoners who have not played any rank games or want to know their true tiers. We think the good performance of CNN is because it could take care of both linear and non-linear features. And also the CNN model can extract pretty large and complex features with its multiple layers and learnable filters in each layer."
   ]
  },
  {
   "cell_type": "markdown",
   "metadata": {},
   "source": [
    "### <a name=\"visualization\"></a>Visualization\n",
    "#### <a name=\"s-predict\"></a>Summoner prediction\n",
    "Since it's now a new season (S7), many summoners have not completed their pre-rank game (10 games to initialize their S7 tier). Some of the summoners are new to the game, and are unaware of their actual game skill among all the summoners. However, the average S6 summoners' data could be used to predict the summoner's level, and give them a rough idea of their current tier level, and even suggestions on how they could improve.\n",
    "\n",
    "The ```find_average``` method compute the average statistics of summoners in certain tiers, after predicting the tier of given summoner."
   ]
  },
  {
   "cell_type": "code",
   "execution_count": 64,
   "metadata": {
    "collapsed": true
   },
   "outputs": [],
   "source": [
    "def find_average(tier_id, df):\n",
    "    tier = TIER[tier_id]\n",
    "    df = df[df['label'] == tier]\n",
    "    mean_df = df.mean(axis=0)\n",
    "\n",
    "    mean_data = mean_df / mean_df['totalSessionsPlayed']\n",
    "    mean_data = mean_data.drop(['totalSessionsPlayed', 'totalSessionsLost',\n",
    "                    'mostChampionKillsPerSession', 'maxNumDeaths', 'maxChampionsKilled'])\n",
    "    mean_dict = dict(mean_data)\n",
    "    mean_dict['KDA'] = (mean_dict['totalChampionKills'] + mean_dict['totalAssists']) / float(mean_dict['totalDeathsPerSession'])\n",
    "    del mean_dict['totalChampionKills']\n",
    "    del mean_dict['totalAssists']\n",
    "    del mean_dict['totalDeathsPerSession']\n",
    "    return mean_dict\n",
    "\n",
    "# 70359816 is a summoner's id\n",
    "top_champion = TopChampion(config['key'], '70359816', 2, n=1)\n",
    "top_champion.save_top_champions(champion_id='solo_summoner_{}'.format('70359816'))"
   ]
  },
  {
   "cell_type": "markdown",
   "metadata": {},
   "source": [
    "Now we generate our test data. We assume that the champion the summoner played best reveals the summoner's game tier. Delete unnecessary data keys according to the mean_dict:"
   ]
  },
  {
   "cell_type": "code",
   "execution_count": 65,
   "metadata": {
    "collapsed": false
   },
   "outputs": [],
   "source": [
    "X_te = pd.read_csv('./data/solo_summoner_70359816.csv').drop(\n",
    "    ['label', 'totalDamageDealt', 'totalDamageTaken', 'totalDoubleKills',\n",
    "     'totalTripleKills', 'totalQuadraKills', 'totalPentaKills',\n",
    "     'totalUnrealKills', 'mostSpellsCast', 'totalTurretsKilled',\n",
    "     'totalMagicDamageDealt', 'totalFirstBlood'], axis=1).as_matrix().astype(float)"
   ]
  },
  {
   "cell_type": "markdown",
   "metadata": {},
   "source": [
    "Then we train our CNN model:"
   ]
  },
  {
   "cell_type": "code",
   "execution_count": 67,
   "metadata": {
    "collapsed": false
   },
   "outputs": [
    {
     "name": "stdout",
     "output_type": "stream",
     "text": [
      "1/1 [==============================] - 0s\n",
      "the predicted tier is: master\n"
     ]
    }
   ],
   "source": [
    "predict = classify(X_tr, y_tr, X_te)[0]\n",
    "TIER = {\n",
    "    0: 'bronze',\n",
    "    1: 'silver',\n",
    "    2: 'gold',\n",
    "    3: 'platinum',\n",
    "    4: 'diamond',\n",
    "    5: 'challenger',\n",
    "    6: 'master',\n",
    "}\n",
    "print 'the predicted tier is: {}'.format(TIER[predict])"
   ]
  },
  {
   "cell_type": "markdown",
   "metadata": {},
   "source": [
    "After predicting the tier, we fetch the average summoner's data from the predicted tier, and process the data for summoner analysis use (details would be explained later)."
   ]
  },
  {
   "cell_type": "code",
   "execution_count": 69,
   "metadata": {
    "collapsed": false
   },
   "outputs": [
    {
     "name": "stdout",
     "output_type": "stream",
     "text": [
      "Summoner's game data: {'totalPhysicalDamageDealt': 134297.54135338345, 'totalSessionsWon': 0.5413533834586466, 'totalMinionKills': 178.08270676691728, 'KDA': 2.4617977528089887, 'totalGoldEarned': 12884.413533834586}\n"
     ]
    }
   ],
   "source": [
    "data = {}\n",
    "reader = csv.reader(open('./data/solo_summoner_70359816.csv'))\n",
    "\n",
    "index = 0\n",
    "title, content = [], []\n",
    "for row in reader:\n",
    "    if index == 0:\n",
    "        title = row\n",
    "        index += 1\n",
    "    else:\n",
    "        content = row\n",
    "\n",
    "for i in xrange(len(title)):\n",
    "    data[title[i]] = float(content[i])\n",
    "\n",
    "total_played = data['totalSessionsPlayed']\n",
    "for key, value in data.iteritems():\n",
    "    data[key] = value / total_played\n",
    "\n",
    "filtered_data = {}\n",
    "mean_temp = find_average(predict, df_avg)\n",
    "\n",
    "data['KDA'] = (data['totalChampionKills'] + data['totalAssists']) / float(data['totalDeathsPerSession'])\n",
    "\n",
    "for key, value in mean_temp.iteritems():\n",
    "    if key in data:\n",
    "        filtered_data[key] = data[key]\n",
    "print \"Summoner's game data: {}\".format(filtered_data)\n"
   ]
  },
  {
   "cell_type": "markdown",
   "metadata": {},
   "source": [
    "Next we visualize the summoners data using Python radar chart"
   ]
  },
  {
   "cell_type": "code",
   "execution_count": 70,
   "metadata": {
    "collapsed": false
   },
   "outputs": [
    {
     "data": {
      "image/png": "[encoded data removed]",
      "text/plain": [
       "<matplotlib.figure.Figure at 0x11aa1ed10>"
      ]
     },
     "metadata": {},
     "output_type": "display_data"
    }
   ],
   "source": [
    "me, avg = [], []\n",
    "key_list = ['Damage', 'WinRate', 'TotalCS', 'KDA', 'GoldEarned']\n",
    "for key, value in filtered_data.iteritems():\n",
    "    # normalize\n",
    "    total = mean_temp[key] + value\n",
    "    avg.append(mean_temp[key] / total)\n",
    "    me.append(value / total)\n",
    "\n",
    "avg.append(avg[0])\n",
    "me.append(me[0])\n",
    "\n",
    "theta = np.linspace(0, 2*np.pi, 6, endpoint=True)\n",
    "r1 = np.array(me)\n",
    "r2 = np.array(avg)\n",
    "ax = plt.subplot(projection='polar')\n",
    "\n",
    "ax.plot(theta, r1, color='r', linewidth=3)\n",
    "ax.plot(theta, r2, color='b', linewidth=3)\n",
    "\n",
    "ax.set_thetagrids(np.arange(0, 360, 360.0/5), labels=key_list)\n",
    "ax.set_rmax(0.6)\n",
    "\n",
    "ax.set_title(\"Summoner Game Skill Analysis\", va='bottom')\n",
    "plt.show()"
   ]
  },
  {
   "cell_type": "markdown",
   "metadata": {},
   "source": [
    "#### <a name=\"s-analysis\"></a>Summoner Analysis\n",
    "##### Definition of KDA (Kill/Death/Assit)\n",
    "KDA is a ratio factor revealing the survival and game ability of a summoner. The formula could be described as:\n",
    "KDA = (#Kill + #Assist) / #Death\n",
    "\n",
    "As a result, the higher KDA is, the better the summoner would be.\n",
    "\n",
    "##### Analysis and Suggestions\n",
    "\n",
    "The radar chart above displays five ability in all the game the summoner played in **Season 2016**. The **red** chart represents the summoner's data, and the **blue** one is the representation of average player in the same predicted tier (in this chart is tier Diamond, and all the data refers to ADC role). \n",
    "\n",
    "We have already pre-processing the data from per-session to per-game. As we can see in the chart, the summoner's total CS (minion kills) per game is higher than average, and so are the damage and gold earned. However, the summoner's KDA and win rate is lower than average.\n",
    "\n",
    "The comparison shows that the summoner is able to obtain map resources fast, and always take advantage in lane confrontation and lane pushing. However, when it refers to group battle, especially for ADC role, the summoner should be more aware of the damage dealing position and survival. \n",
    "\n",
    "Lower KDA and lower winning rate than average might also reveals that the number of team fight engagement in one game is insufficient. League of Legends is a team strategic game, and if the summoner wants to win the game, he/she should group more and try to engage in team fight as much as possible."
   ]
  },
  {
   "cell_type": "markdown",
   "metadata": {},
   "source": [
    "#### <a name=\"champion-popularity\"></a>Champion Popularity\n",
    "With the data crawled, we can also visualize the popularities of all champions in LOL. Here, we used the word cloud library which is a very popular data visualization library. The code below will measure how frequently each champion is used in the games from the data we crawled, and it will draw a word cloud image to display the result."
   ]
  },
  {
   "cell_type": "code",
   "execution_count": 71,
   "metadata": {
    "collapsed": false,
    "scrolled": true
   },
   "outputs": [
    {
     "data": {
      "image/png": "[encoded data removed]",
      "text/plain": [
       "<matplotlib.figure.Figure at 0x112e89bd0>"
      ]
     },
     "metadata": {},
     "output_type": "display_data"
    }
   ],
   "source": [
    "def count_champion(api_key):\n",
    "    res = dict()\n",
    "    file_names = glob.glob('./data/*.csv')\n",
    "    for file_name in file_names:\n",
    "        m = re.search(r'/(\\d+)\\.csv', file_name)\n",
    "        if m:\n",
    "            champion_id = m.group(1)\n",
    "            req_url = 'https://global.api.pvp.net/api/lol/static-data/na/v1.2/champion/' \\\n",
    "                      + champion_id \\\n",
    "                      + '?api_key=' \\\n",
    "                      + api_key\n",
    "            time.sleep(1)\n",
    "            # print req_url\n",
    "            data = urllib2.urlopen(req_url).read()\n",
    "            json_data = json.loads(data)\n",
    "            champion_name = json_data['name']\n",
    "            with open(file_name) as f:\n",
    "                champion_count = len(f.readlines())\n",
    "                res[champion_name] = champion_count\n",
    "            pass\n",
    "        pass\n",
    "    return res\n",
    "    pass\n",
    "\n",
    "if os.path.isfile('champion_popularity.pkl'):\n",
    "    with open('champion_popularity.pkl', 'r+') as f:\n",
    "        champion_counts = pickle.load(f)\n",
    "        pass\n",
    "    pass\n",
    "else:\n",
    "    champion_counts = count_champion(config['key'])\n",
    "    with open('champion_popularity.pkl', 'w+') as f:\n",
    "        pickle.dump(champion_counts, f, pickle.HIGHEST_PROTOCOL)\n",
    "    pass\n",
    "\n",
    "word_cloud = WordCloud().generate_from_frequencies(champion_counts.iteritems())\n",
    "plt.imshow(word_cloud)\n",
    "plt.show()"
   ]
  },
  {
   "cell_type": "code",
   "execution_count": null,
   "metadata": {
    "collapsed": true
   },
   "outputs": [],
   "source": []
  }
 ],
 "metadata": {
  "anaconda-cloud": {},
  "kernelspec": {
   "display_name": "Python [Root]",
   "language": "python",
   "name": "Python [Root]"
  },
  "language_info": {
   "codemirror_mode": {
    "name": "ipython",
    "version": 2
   },
   "file_extension": ".py",
   "mimetype": "text/x-python",
   "name": "python",
   "nbconvert_exporter": "python",
   "pygments_lexer": "ipython2",
   "version": "2.7.12"
  }
 },
 "nbformat": 4,
 "nbformat_minor": 0
}
